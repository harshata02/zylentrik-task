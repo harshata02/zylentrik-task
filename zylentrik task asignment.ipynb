{
 "cells": [
  {
   "cell_type": "code",
   "execution_count": 1,
   "metadata": {},
   "outputs": [
    {
     "name": "stdout",
     "output_type": "stream",
     "text": [
      "  Student_ID       Name  Age  Gender   Location Enrolment_Date\n",
      "0       S001  Student_1   24  Female    Kolkata     2023-11-24\n",
      "1       S002  Student_2   32   Other    Chennai     2023-02-27\n",
      "2       S003  Student_3   28   Other     Mumbai     2023-01-13\n",
      "3       S004  Student_4   25  Female  Bangalore     2023-05-21\n",
      "4       S005  Student_5   24   Other      Delhi     2023-05-06\n",
      "  Student_ID Course_ID  Rating       Feedback_Text\n",
      "0       S057     UX303       2      Too fast-paced\n",
      "1       S063     PY202       2  Loved the examples\n",
      "2       S022     PY202       4     Could be better\n",
      "3       S011     PY202       5   Needs improvement\n",
      "4       S073     WD404       4     Could be better\n",
      "  Student_ID Course_ID        Date  Time_Spent_Minutes  Completion_Percentage\n",
      "0       S001     PY202  2024-01-05                  90                  46.10\n",
      "1       S001     DM101  2024-01-28                 155                  88.87\n",
      "2       S001     UX303  2024-01-28                 177                  54.93\n",
      "3       S002     PY202  2024-02-03                  45                  32.20\n",
      "4       S002     UX303  2024-03-15                 119                  90.80\n"
     ]
    }
   ],
   "source": [
    "import pandas as pd\n",
    "import seaborn as sns\n",
    "\n",
    "\n",
    "import matplotlib.pyplot as plt\n",
    "\n",
    "\n",
    "df=pd.read_csv('C:/Users/Welcome/Downloads/cleaned_course_feedback.csv')\n",
    "\n",
    "df1=pd.read_csv('C:/Users/Welcome/Downloads/cleaned_enrollment_data.csv')\n",
    "\n",
    "df2=pd.read_csv('C:/Users/Welcome/Downloads/cleaned_unique_student_data.csv')\n",
    "print(df1.head())\n",
    "print(df.head())\n",
    "print(df2.head())"
   ]
  },
  {
   "cell_type": "markdown",
   "metadata": {},
   "source": [
    "What is the overall average completion rate across courses?\n",
    "\n",
    "\n"
   ]
  },
  {
   "cell_type": "code",
   "execution_count": 11,
   "metadata": {},
   "outputs": [
    {
     "name": "stdout",
     "output_type": "stream",
     "text": [
      "54.77871016691957\n"
     ]
    }
   ],
   "source": [
    "average_completion = df2['Completion_Percentage'].mean()\n",
    "print(average_completion)\n"
   ]
  },
  {
   "cell_type": "markdown",
   "metadata": {},
   "source": [
    "Which course has the highest and lowest average engagement\n",
    "time?"
   ]
  },
  {
   "cell_type": "code",
   "execution_count": 16,
   "metadata": {},
   "outputs": [
    {
     "name": "stdout",
     "output_type": "stream",
     "text": [
      "Course_ID\n",
      "DM101    102.427673\n",
      "PY202     93.902439\n",
      "UX303     99.816568\n",
      "WD404     96.419162\n",
      "Name: Time_Spent_Minutes, dtype: float64\n",
      "Highest Avg Engagement: DM101 102.42767295597484\n",
      "Lowest Avg Engagement: PY202 93.90243902439025\n"
     ]
    }
   ],
   "source": [
    "avg_engagement = df2.groupby('Course_ID')['Time_Spent_Minutes'].mean()\n",
    "print(avg_engagement)\n",
    "\n",
    "highest_course = avg_engagement.idxmax()\n",
    "highest_avg = avg_engagement.max()\n",
    "\n",
    "lowest_course = avg_engagement.idxmin()\n",
    "lowest_avg = avg_engagement.min()\n",
    "\n",
    "print(\"Highest Avg Engagement:\", highest_course, highest_avg)\n",
    "print(\"Lowest Avg Engagement:\", lowest_course, lowest_avg)"
   ]
  },
  {
   "cell_type": "markdown",
   "metadata": {},
   "source": [
    "How does engagement differ by age group or location?"
   ]
  },
  {
   "cell_type": "code",
   "execution_count": 3,
   "metadata": {},
   "outputs": [
    {
     "name": "stdout",
     "output_type": "stream",
     "text": [
      "   Student_ID         Name  Age  Gender   Location Enrolment_Date\n",
      "0        S001    Student_1   24  Female    Kolkata     2023-11-24\n",
      "1        S002    Student_2   32   Other    Chennai     2023-02-27\n",
      "2        S003    Student_3   28   Other     Mumbai     2023-01-13\n",
      "3        S004    Student_4   25  Female  Bangalore     2023-05-21\n",
      "4        S005    Student_5   24   Other      Delhi     2023-05-06\n",
      "..        ...          ...  ...     ...        ...            ...\n",
      "95       S096   Student_96   32   Other    Chennai     2023-12-19\n",
      "96       S097   Student_97   31   Other    Chennai     2023-10-13\n",
      "97       S098   Student_98   20   Other    Kolkata     2023-04-23\n",
      "98       S099   Student_99   18    Male    Kolkata     2023-12-17\n",
      "99       S100  Student_100   22   Other  Bangalore     2023-06-16\n",
      "\n",
      "[100 rows x 6 columns]\n",
      "    Student_ID Course_ID        Date  Time_Spent_Minutes  \\\n",
      "0         S001     PY202  2024-01-05                  90   \n",
      "1         S001     DM101  2024-01-28                 155   \n",
      "2         S001     UX303  2024-01-28                 177   \n",
      "3         S002     PY202  2024-02-03                  45   \n",
      "4         S002     UX303  2024-03-15                 119   \n",
      "..         ...       ...         ...                 ...   \n",
      "654       S100     PY202  2024-03-03                  83   \n",
      "655       S100     UX303  2024-02-27                 168   \n",
      "656       S100     UX303  2024-01-02                 134   \n",
      "657       S100     WD404  2024-03-12                 139   \n",
      "658       S100     WD404  2024-03-28                 135   \n",
      "\n",
      "     Completion_Percentage  \n",
      "0                    46.10  \n",
      "1                    88.87  \n",
      "2                    54.93  \n",
      "3                    32.20  \n",
      "4                    90.80  \n",
      "..                     ...  \n",
      "654                  22.63  \n",
      "655                  14.83  \n",
      "656                  22.29  \n",
      "657                  68.78  \n",
      "658                  47.41  \n",
      "\n",
      "[659 rows x 5 columns]\n",
      "    Student_ID Course_ID        Date  Time_Spent_Minutes  \\\n",
      "0         S001     PY202  2024-01-05                  90   \n",
      "1         S001     DM101  2024-01-28                 155   \n",
      "2         S001     UX303  2024-01-28                 177   \n",
      "3         S002     PY202  2024-02-03                  45   \n",
      "4         S002     UX303  2024-03-15                 119   \n",
      "..         ...       ...         ...                 ...   \n",
      "654       S100     PY202  2024-03-03                  83   \n",
      "655       S100     UX303  2024-02-27                 168   \n",
      "656       S100     UX303  2024-01-02                 134   \n",
      "657       S100     WD404  2024-03-12                 139   \n",
      "658       S100     WD404  2024-03-28                 135   \n",
      "\n",
      "     Completion_Percentage         Name  Age  Gender   Location Enrolment_Date  \n",
      "0                    46.10    Student_1   24  Female    Kolkata     2023-11-24  \n",
      "1                    88.87    Student_1   24  Female    Kolkata     2023-11-24  \n",
      "2                    54.93    Student_1   24  Female    Kolkata     2023-11-24  \n",
      "3                    32.20    Student_2   32   Other    Chennai     2023-02-27  \n",
      "4                    90.80    Student_2   32   Other    Chennai     2023-02-27  \n",
      "..                     ...          ...  ...     ...        ...            ...  \n",
      "654                  22.63  Student_100   22   Other  Bangalore     2023-06-16  \n",
      "655                  14.83  Student_100   22   Other  Bangalore     2023-06-16  \n",
      "656                  22.29  Student_100   22   Other  Bangalore     2023-06-16  \n",
      "657                  68.78  Student_100   22   Other  Bangalore     2023-06-16  \n",
      "658                  47.41  Student_100   22   Other  Bangalore     2023-06-16  \n",
      "\n",
      "[659 rows x 10 columns]\n"
     ]
    }
   ],
   "source": [
    "df_age_location=pd.read_csv('C:/Users/Welcome/Downloads/cleaned_enrollment_data.csv')\n",
    "print(df_age_location)\n",
    "\n",
    "df_time=pd.read_csv('C:/Users/Welcome/Downloads/cleaned_unique_student_data.csv')\n",
    "print(df_time)\n",
    "\n",
    "df4 = pd.merge(df_time, df_age_location, on=\"Student_ID\")\n",
    "print(df4)\n",
    "\n",
    "\n",
    "\n",
    "\n",
    "\n",
    "\n",
    "\n",
    "\n",
    "\n"
   ]
  },
  {
   "cell_type": "markdown",
   "metadata": {},
   "source": [
    "What is the average feedback rating per course?\n"
   ]
  },
  {
   "cell_type": "code",
   "execution_count": 5,
   "metadata": {},
   "outputs": [
    {
     "name": "stdout",
     "output_type": "stream",
     "text": [
      "  Course_ID    Rating\n",
      "0     DM101  2.900000\n",
      "1     PY202  3.277778\n",
      "2     UX303  2.923077\n",
      "3     WD404  2.789474\n"
     ]
    }
   ],
   "source": [
    "average_rating = df.groupby(\"Course_ID\")[\"Rating\"].mean().reset_index()\n",
    "\n",
    "print(average_rating)\n"
   ]
  },
  {
   "cell_type": "code",
   "execution_count": null,
   "metadata": {},
   "outputs": [
    {
     "data": {
      "image/png": "[encoded data removed]",
      "text/plain": [
       "<Figure size 800x500 with 1 Axes>"
      ]
     },
     "metadata": {},
     "output_type": "display_data"
    }
   ],
   "source": [
    "plt.figure(figsize=(8, 5))\n",
    "plt.bar(average_rating[\"Course_ID\"], average_rating[\"Rating\"], color='skyblue')\n",
    "plt.xlabel(\"Course ID\")\n",
    "plt.ylabel(\"Average Rating\")\n",
    "plt.title(\"Average Feedback Rating per Course\")\n",
    "plt.ylim(0, 5)  \n",
    "plt.grid(axis='y', linestyle='--', alpha=0.7)\n",
    "plt.tight_layout()\n",
    "plt.show()\n"
   ]
  },
  {
   "cell_type": "markdown",
   "metadata": {},
   "source": [
    "Is there a correlation between completion rate and feedback rating?"
   ]
  },
  {
   "cell_type": "code",
   "execution_count": 19,
   "metadata": {},
   "outputs": [
    {
     "name": "stdout",
     "output_type": "stream",
     "text": [
      "    Student_ID Course_ID        Date  Time_Spent_Minutes  \\\n",
      "0         S002     PY202  2024-02-03                  45   \n",
      "1         S002     PY202  2024-03-06                 136   \n",
      "2         S005     DM101  2024-01-30                  27   \n",
      "3         S006     DM101  2024-03-27                 177   \n",
      "4         S006     DM101  2024-01-08                 113   \n",
      "..         ...       ...         ...                 ...   \n",
      "117       S095     DM101  2024-02-26                 125   \n",
      "118       S097     PY202  2024-01-27                  81   \n",
      "119       S097     PY202  2024-02-16                  93   \n",
      "120       S099     WD404  2024-02-23                 162   \n",
      "121       S099     WD404  2024-02-24                  57   \n",
      "\n",
      "     Completion_Percentage  Rating       Feedback_Text  \n",
      "0                    32.20       3     Well structured  \n",
      "1                    18.18       3     Well structured  \n",
      "2                    91.49       4  Loved the examples  \n",
      "3                    98.57       1  Loved the examples  \n",
      "4                    75.54       1  Loved the examples  \n",
      "..                     ...     ...                 ...  \n",
      "117                  38.70       3      Too fast-paced  \n",
      "118                  77.71       5  Loved the examples  \n",
      "119                  27.74       5  Loved the examples  \n",
      "120                  22.41       5   Needs improvement  \n",
      "121                  53.80       5   Needs improvement  \n",
      "\n",
      "[122 rows x 7 columns]\n",
      "Index(['Student_ID', 'Course_ID', 'Date', 'Time_Spent_Minutes',\n",
      "       'Completion_Percentage', 'Rating', 'Feedback_Text'],\n",
      "      dtype='object')\n",
      "Correlation between completion rate and feedback rating: -0.05170765814948301\n"
     ]
    }
   ],
   "source": [
    "merged_df = pd.merge(df2, df, on=[\"Student_ID\", \"Course_ID\"])\n",
    "\n",
    "print(merged_df)\n",
    "\n",
    "correlation = merged_df[\"Rating\"].corr(merged_df[\"Completion_Percentage\"])\n",
    "print(merged_df.columns)\n",
    "merged_df[\"Rating\"] = pd.to_numeric(merged_df[\"Rating\"], errors=\"coerce\")\n",
    "merged_df[\"Completion_Percentage\"] = pd.to_numeric(merged_df[\"Completion_Percentage\"], errors=\"coerce\")\n",
    "\n",
    "merged_df = merged_df.dropna(subset=[\"Rating\", \"Completion_Percentage\"])\n",
    "\n",
    "correlation = merged_df[\"Rating\"].corr(merged_df[\"Completion_Percentage\"])\n",
    "print(\"Correlation between completion rate and feedback rating:\", correlation)\n",
    "\n",
    "\n",
    "\n",
    "\n",
    "\n",
    "\n"
   ]
  },
  {
   "cell_type": "markdown",
   "metadata": {},
   "source": [
    "Identify top 3 student segments based on engagement and\n",
    "satisfaction."
   ]
  },
  {
   "cell_type": "code",
   "execution_count": 23,
   "metadata": {},
   "outputs": [
    {
     "name": "stdout",
     "output_type": "stream",
     "text": [
      "   Student_ID  Time_Spent_Minutes  Completion_Percentage  Engagement_Score\n",
      "84       S085                 979              80.590000          0.849914\n",
      "49       S050                1033              69.856250          0.760516\n",
      "51       S052                 768              80.288571          0.756273\n"
     ]
    }
   ],
   "source": [
    "import pandas as pd\n",
    "\n",
    "\n",
    "student_engagement = df2.groupby(\"Student_ID\").agg({\n",
    "    \"Time_Spent_Minutes\": \"sum\",\n",
    "    \"Completion_Percentage\": \"mean\"\n",
    "}).reset_index()\n",
    "\n",
    "\n",
    "student_engagement[\"Time_Spent_Scaled\"] = (\n",
    "    (student_engagement[\"Time_Spent_Minutes\"] - student_engagement[\"Time_Spent_Minutes\"].min()) /\n",
    "    (student_engagement[\"Time_Spent_Minutes\"].max() - student_engagement[\"Time_Spent_Minutes\"].min())\n",
    ")\n",
    "\n",
    "student_engagement[\"Completion_Scaled\"] = (\n",
    "    (student_engagement[\"Completion_Percentage\"] - student_engagement[\"Completion_Percentage\"].min()) /\n",
    "    (student_engagement[\"Completion_Percentage\"].max() - student_engagement[\"Completion_Percentage\"].min())\n",
    ")\n",
    "\n",
    "\n",
    "student_engagement[\"Engagement_Score\"] = (\n",
    "    student_engagement[\"Time_Spent_Scaled\"] + student_engagement[\"Completion_Scaled\"]\n",
    ") / 2\n",
    "\n",
    "\n",
    "top_3 = student_engagement.sort_values(by=\"Engagement_Score\", ascending=False).head(3)\n",
    "\n",
    "print(top_3[[\"Student_ID\", \"Time_Spent_Minutes\", \"Completion_Percentage\", \"Engagement_Score\"]])\n"
   ]
  },
  {
   "cell_type": "code",
   "execution_count": 2,
   "metadata": {},
   "outputs": [
    {
     "ename": "NameError",
     "evalue": "name 'top_3_students' is not defined",
     "output_type": "error",
     "traceback": [
      "\u001b[1;31m---------------------------------------------------------------------------\u001b[0m",
      "\u001b[1;31mNameError\u001b[0m                                 Traceback (most recent call last)",
      "Cell \u001b[1;32mIn[2], line 2\u001b[0m\n\u001b[0;32m      1\u001b[0m \u001b[38;5;66;03m# Merge top students with the original dataframe to see their feedback texts\u001b[39;00m\n\u001b[1;32m----> 2\u001b[0m top_feedbacks \u001b[38;5;241m=\u001b[39m df[df[\u001b[38;5;124m\"\u001b[39m\u001b[38;5;124mStudent_ID\u001b[39m\u001b[38;5;124m\"\u001b[39m]\u001b[38;5;241m.\u001b[39misin(\u001b[43mtop_3_students\u001b[49m[\u001b[38;5;124m\"\u001b[39m\u001b[38;5;124mStudent_ID\u001b[39m\u001b[38;5;124m\"\u001b[39m])]\n\u001b[0;32m      3\u001b[0m \u001b[38;5;28mprint\u001b[39m(top_feedbacks[[\u001b[38;5;124m\"\u001b[39m\u001b[38;5;124mStudent_ID\u001b[39m\u001b[38;5;124m\"\u001b[39m, \u001b[38;5;124m\"\u001b[39m\u001b[38;5;124mRating\u001b[39m\u001b[38;5;124m\"\u001b[39m, \u001b[38;5;124m\"\u001b[39m\u001b[38;5;124mFeedback_Text\u001b[39m\u001b[38;5;124m\"\u001b[39m]])\n",
      "\u001b[1;31mNameError\u001b[0m: name 'top_3_students' is not defined"
     ]
    }
   ],
   "source": [
    "\n",
    "\n",
    "\n",
    "# Merge top students with the original dataframe to see their feedback texts\n",
    "top_feedbacks = df[df[\"Student_ID\"].isin(top_3_students[\"Student_ID\"])]\n",
    "print(top_feedbacks[[\"Student_ID\", \"Rating\", \"Feedback_Text\"]])\n"
   ]
  }
 ],
 "metadata": {
  "kernelspec": {
   "display_name": "Python 3",
   "language": "python",
   "name": "python3"
  },
  "language_info": {
   "codemirror_mode": {
    "name": "ipython",
    "version": 3
   },
   "file_extension": ".py",
   "mimetype": "text/x-python",
   "name": "python",
   "nbconvert_exporter": "python",
   "pygments_lexer": "ipython3",
   "version": "3.12.6"
  }
 },
 "nbformat": 4,
 "nbformat_minor": 2
}
